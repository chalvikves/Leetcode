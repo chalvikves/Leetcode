{
 "cells": [
  {
   "cell_type": "code",
   "execution_count": 5,
   "metadata": {},
   "outputs": [
    {
     "name": "stdout",
     "output_type": "stream",
     "text": [
      "2\n"
     ]
    },
    {
     "data": {
      "text/plain": [
       "0"
      ]
     },
     "execution_count": 5,
     "metadata": {},
     "output_type": "execute_result"
    }
   ],
   "source": [
    "def subarraysDivByK(nums, k):\n",
    "    \"\"\"\n",
    "    :type nums: List[int]\n",
    "    :type k: int\n",
    "    :rtype: int\n",
    "    \"\"\"\n",
    "    count = 0\n",
    "    if not nums:\n",
    "        return 0\n",
    "    \n",
    "    if len(nums) == 1:\n",
    "        if nums[0] % k == 0: \n",
    "            return 1\n",
    "        \n",
    "    i = 0\n",
    "    for j in range(len(nums)):\n",
    "        \n",
    "        \n",
    "        \n",
    "        if j >= len(nums) - 1:\n",
    "            i += 1\n",
    "        \n",
    "        \n",
    "    \n",
    "nums = [4,5,0,-2,-3,1]\n",
    "k = 5\n",
    "\n",
    "nums2 = [5]\n",
    "k2 = 9\n",
    "\n",
    "print(subarraysDivByK(nums, k))\n",
    "subarraysDivByK(nums2, k2)\n"
   ]
  }
 ],
 "metadata": {
  "kernelspec": {
   "display_name": "Python 3",
   "language": "python",
   "name": "python3"
  },
  "language_info": {
   "codemirror_mode": {
    "name": "ipython",
    "version": 3
   },
   "file_extension": ".py",
   "mimetype": "text/x-python",
   "name": "python",
   "nbconvert_exporter": "python",
   "pygments_lexer": "ipython3",
   "version": "3.10.4"
  },
  "orig_nbformat": 4,
  "vscode": {
   "interpreter": {
    "hash": "c8701ac92f2f83cf740de0b1674dbf189065e9ebfdc20498cb1e5c9f41b0ab69"
   }
  }
 },
 "nbformat": 4,
 "nbformat_minor": 2
}
